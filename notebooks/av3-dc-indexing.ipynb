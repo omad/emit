{
 "cells": [
  {
   "cell_type": "markdown",
   "id": "ddc6f296-dd52-484d-805f-ce0436f7a9ad",
   "metadata": {},
   "source": [
    "## Metadata generation for AVIRIS\n"
   ]
  },
  {
   "cell_type": "code",
   "execution_count": null,
   "id": "4e0e8463-7b4b-4f49-a9ef-ae383ff83601",
   "metadata": {
    "tags": []
   },
   "outputs": [],
   "source": [
    "import json\n",
    "\n",
    "import numpy as np\n",
    "import xarray as xr\n",
    "from IPython.display import JSON, Markdown\n",
    "from s3fs import S3FileSystem\n",
    "\n",
    "from odc.geo.xr import ODCExtension\n",
    "from datacube import Datacube\n",
    "from datacube.index.abstract import DatasetTuple\n",
    "from datacube.index.hl import prep_eo3\n",
    "from datacube.utils.serialise import jsonify_document\n",
    "\n",
    "from odc.av3 import av3_mk_dataset\n",
    "\n",
    "prefix = \"s3://adias-prod-dc-data-projects/odc-hs/av3/\"\n",
    "\n",
    "s3 = S3FileSystem()\n",
    "_ = s3.connect()\n",
    "\n",
    "urls = [f\"s3://{f}\" for f in s3.ls(prefix) if f.endswith(\".zarr\")]\n",
    "print(f\"Found {len(urls)} in {prefix}\")"
   ]
  },
  {
   "cell_type": "markdown",
   "id": "f024b05c-35b1-4834-a724-35f3df0cbf06",
   "metadata": {},
   "source": [
    "### Grab consolidated metadata for each zarr"
   ]
  },
  {
   "cell_type": "code",
   "execution_count": null,
   "id": "7a5a8b7f-5963-4852-8c15-8e2d65a10c24",
   "metadata": {
    "tags": []
   },
   "outputs": [],
   "source": [
    "zzmd = [json.loads(s3.cat(f\"{z}/.zmetadata\")) for z in urls]"
   ]
  },
  {
   "cell_type": "markdown",
   "id": "35614f57-ff18-4b04-9b20-7f3bc43e8d6e",
   "metadata": {},
   "source": [
    "### Open with xarray in lazy mode"
   ]
  },
  {
   "cell_type": "code",
   "execution_count": null,
   "id": "4f061083-af0a-41dd-869d-935157784722",
   "metadata": {
    "tags": []
   },
   "outputs": [],
   "source": [
    "xxs = [xr.open_zarr(url, decode_coords=\"all\") for url in urls]\n",
    "\n",
    "xx = xxs[0]  # Pick first one for review\n",
    "assert isinstance(xx.odc, ODCExtension)\n",
    "display(xx.odc.geobox, xx.odc.spatial_dims, xx.odc.transform, xx)"
   ]
  },
  {
   "cell_type": "markdown",
   "id": "945d8a12-ab29-4ae0-8835-8cce9010a957",
   "metadata": {},
   "source": [
    "## Build Dataset docs"
   ]
  },
  {
   "cell_type": "code",
   "execution_count": null,
   "id": "a3236008-e753-4f05-9408-5bbed1300105",
   "metadata": {
    "tags": []
   },
   "outputs": [],
   "source": [
    "docs = [av3_mk_dataset(xx, zmd) for xx, zmd in zip(xxs, zzmd)]\n",
    "display(\n",
    "    Markdown(\"### EO3 Dataset (raw)\"),\n",
    "    JSON(docs[0]),\n",
    "    Markdown(\"### EO3 Dataset (expanded)\"),\n",
    "    JSON(jsonify_document(prep_eo3(docs[0]))),\n",
    ")"
   ]
  },
  {
   "cell_type": "markdown",
   "id": "56c0f097",
   "metadata": {},
   "source": [
    "## Add or update datasets in DB"
   ]
  },
  {
   "cell_type": "code",
   "execution_count": null,
   "id": "f875e30c-9d36-4d33-90fe-ed0b0cb5febf",
   "metadata": {
    "tags": []
   },
   "outputs": [],
   "source": [
    "def update_existing_dss(dss):\n",
    "    uuids = [ds.metadata[\"id\"] for ds in dss]\n",
    "    dc.index.datasets.purge(uuids, allow_delete_active=True)\n",
    "    return dc.index.datasets.bulk_add(dss)\n",
    "\n",
    "\n",
    "dc = Datacube(env=\"emit\")\n",
    "product = dc.index.products.get_by_name(\"av3_l2a\")\n",
    "\n",
    "dss = [DatasetTuple(product, prep_eo3(doc), [doc[\"location\"]]) for doc in docs]\n",
    "\n",
    "if False:\n",
    "    dc.index.datasets.bulk_add(dss)\n",
    "else:\n",
    "    print(\"not adding to db by default\")\n",
    "\n",
    "if False:\n",
    "    update_existing_dss(dss)"
   ]
  },
  {
   "cell_type": "markdown",
   "id": "715b2cc3-02db-476d-a8e6-b4583c000614",
   "metadata": {},
   "source": [
    "------------"
   ]
  }
 ],
 "metadata": {
  "kernelspec": {
   "display_name": "emit",
   "language": "python",
   "name": "emit"
  },
  "language_info": {
   "codemirror_mode": {
    "name": "ipython",
    "version": 3
   },
   "file_extension": ".py",
   "mimetype": "text/x-python",
   "name": "python",
   "nbconvert_exporter": "python",
   "pygments_lexer": "ipython3",
   "version": "3.10.12"
  }
 },
 "nbformat": 4,
 "nbformat_minor": 5
}
