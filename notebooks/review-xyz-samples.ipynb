{
 "cells": [
  {
   "cell_type": "code",
   "execution_count": null,
   "id": "bc2f30af-892f-4900-b2df-cb75b8ddb67f",
   "metadata": {
    "tags": []
   },
   "outputs": [],
   "source": [
    "import numpy as np\n",
    "import seaborn as sns\n",
    "from IPython.display import JSON\n",
    "from matplotlib import pyplot as plt\n",
    "from odc.emit import (\n",
    "    emit_load,\n",
    "    mk_error_plot,\n",
    "    open_zict_json,\n",
    "    prep_s3_fs,\n",
    "    review_gcp_sample,\n",
    "    gxy,\n",
    ")"
   ]
  },
  {
   "cell_type": "code",
   "execution_count": null,
   "id": "3c471ee2-eba1-40b1-8df9-9465638da104",
   "metadata": {
    "tags": []
   },
   "outputs": [],
   "source": [
    "from dask.distributed import Client\n",
    "from dask.distributed import progress as dask_progress\n",
    "\n",
    "if \"client\" not in locals():\n",
    "    client = Client(n_workers=1, threads_per_worker=None)\n",
    "client"
   ]
  },
  {
   "cell_type": "code",
   "execution_count": null,
   "id": "2994e74c-ae21-4955-b60e-1960c41b089b",
   "metadata": {
    "tags": []
   },
   "outputs": [],
   "source": [
    "fs = prep_s3_fs()"
   ]
  },
  {
   "cell_type": "code",
   "execution_count": null,
   "id": "edde845c-1b4b-4b63-adfe-21d5871681dc",
   "metadata": {
    "tags": []
   },
   "outputs": [],
   "source": [
    "samples = open_zict_json(\"Data/emit-xyz-samples.zip\", \"r\")\n",
    "stacs = open_zict_json(\"Data/emit-stac.zip\", \"r\")\n",
    "all_ids = list(samples)\n",
    "len(all_ids), all_ids[:5]"
   ]
  },
  {
   "cell_type": "markdown",
   "id": "f736ac3c-f793-40dc-ac02-4a31a625467c",
   "metadata": {},
   "source": [
    "### Load XYZ Samples"
   ]
  },
  {
   "cell_type": "code",
   "execution_count": null,
   "id": "6071b82c-103e-471c-805b-2c6c6b0f4bd8",
   "metadata": {
    "tags": []
   },
   "outputs": [],
   "source": [
    "granule = \"EMIT_L2A_RFL_001_20230316T045133_2307503_005\"  # AU\n",
    "# granule = \"EMIT_L2A_RFL_001_20230531T133036_2315109_002\"  # Gibraltar\n",
    "# granule = \"EMIT_L2A_RFL_001_20230804T142809_2321610_001\"  # South America\n",
    "# granule = all_ids[20_106]\n",
    "\n",
    "sample = samples[granule]\n",
    "stac_doc = stacs[granule]\n",
    "print(f\"Granule {granule}, {sample['shape'][1]}x{sample['shape'][0]}px\")\n",
    "xx = emit_load(stac_doc, fs, chunks={\"y\": 32})\n",
    "\n",
    "display(JSON(sample))\n",
    "_ = review_gcp_sample(sample, figsize=(7, 5), s=90)"
   ]
  },
  {
   "cell_type": "markdown",
   "id": "dba7b897-5157-467f-aca4-5ac705cfd4bb",
   "metadata": {},
   "source": [
    "### GCP Error Analysis: whole image"
   ]
  },
  {
   "cell_type": "code",
   "execution_count": null,
   "id": "320ffe24-19a7-41fb-b6d4-84842a68b71d",
   "metadata": {
    "tags": []
   },
   "outputs": [],
   "source": [
    "from odc.emit.gcps import gcp_geobox, gcp_sample_error, rio_gcp_transformer, sub_sample\n",
    "\n",
    "nside = 7\n",
    "n_total = 100\n",
    "_sample = sub_sample(sample, max(0, n_total - 4 * nside), nside=nside)\n",
    "display(JSON(_sample))\n",
    "\n",
    "gbox = gcp_geobox(_sample)\n",
    "rio_gcp_tr = rio_gcp_transformer(_sample)\n",
    "\n",
    "err_max = 2.1\n",
    "\n",
    "rr1 = mk_error_plot(\n",
    "    gcp_sample_error(sample, rio_gcp_tr), max_err_axis=err_max, msg=\"RIO\"\n",
    ")\n",
    "rr2 = mk_error_plot(gcp_sample_error(sample, gbox), max_err_axis=err_max, msg=\"ODC\")\n",
    "_ = review_gcp_sample(_sample)\n",
    "\n",
    "display(rr1.ee.std(0), rr2.ee.std(0))\n",
    "\n",
    "if False:\n",
    "    rr3 = mk_error_plot(gcp_sample_error(sample, gbox.approx), msg=\"APPROX\")\n",
    "    display(rr3.ee.std(0))"
   ]
  },
  {
   "cell_type": "code",
   "execution_count": null,
   "id": "d54e7791-99e8-4c71-ad6d-852c6db78b6c",
   "metadata": {},
   "outputs": [],
   "source": [
    "display(\n",
    "    xx.elev.odc.geobox.footprint(4326).exterior | gbox.footprint(4326).exterior,\n",
    "    xx.elev.odc.geobox.footprint(4326) - gbox.footprint(4326),\n",
    ")"
   ]
  },
  {
   "cell_type": "code",
   "execution_count": null,
   "id": "23b13bc8-08b1-4a77-aeb8-bb1f502c304d",
   "metadata": {
    "tags": []
   },
   "outputs": [],
   "source": [
    "JSON(stac_doc)"
   ]
  },
  {
   "cell_type": "markdown",
   "id": "e6920989-33a4-461e-9a2d-2d71e7db889e",
   "metadata": {
    "tags": []
   },
   "source": [
    "### Review GLT_X/Y"
   ]
  },
  {
   "cell_type": "code",
   "execution_count": null,
   "id": "cfd36df3-bcdb-4cac-acf8-b1d58f215f50",
   "metadata": {
    "tags": []
   },
   "outputs": [],
   "source": [
    "_xx = client.persist(xx)\n",
    "dask_progress(_xx)"
   ]
  },
  {
   "cell_type": "code",
   "execution_count": null,
   "id": "7bbb0945-9771-4647-82e0-f7452df6dcbe",
   "metadata": {
    "tags": []
   },
   "outputs": [],
   "source": [
    "%%time\n",
    "yy0 = _xx.compute()"
   ]
  },
  {
   "cell_type": "code",
   "execution_count": null,
   "id": "bb5e1318-35cb-4384-8c21-88a85fc6109e",
   "metadata": {
    "tags": []
   },
   "outputs": [],
   "source": [
    "gx = yy0.glt_x.data.astype(\"int32\")\n",
    "gy = yy0.glt_y.data.astype(\"int32\")\n",
    "pix_sz = yy0.attrs[\"ortho_geotransform\"][1]\n",
    "mm = (gx != 0) * (gy != 0)"
   ]
  },
  {
   "cell_type": "code",
   "execution_count": null,
   "id": "bf0da26f-9fa5-4578-9cd2-6705069ea942",
   "metadata": {
    "tags": []
   },
   "outputs": [],
   "source": [
    "_lon, _lat = (\n",
    "    np.pad(\n",
    "        a.data,\n",
    "        ((1, 0), (1, 0)),\n",
    "        mode=\"constant\",\n",
    "        constant_values=float(\"nan\"),\n",
    "    )[gy, gx]\n",
    "    for a in [yy0.lon, yy0.lat]\n",
    ")\n",
    "\n",
    "assert _lon.shape == yy0.glt_x.shape"
   ]
  },
  {
   "cell_type": "code",
   "execution_count": null,
   "id": "edee13e4-5aaa-4acf-8ec5-a786c54ddcc5",
   "metadata": {
    "tags": []
   },
   "outputs": [],
   "source": [
    "ex = _lon - yy0.ortho_x.data.reshape(1, -1)\n",
    "ey = _lat - yy0.ortho_y.data.reshape(-1, 1)\n",
    "\n",
    "ee = np.sqrt(ex * ex + ey * ey) / pix_sz\n",
    "px = ex[mm] / pix_sz\n",
    "py = ey[mm] / pix_sz"
   ]
  },
  {
   "cell_type": "code",
   "execution_count": null,
   "id": "38e8aaff-01c1-4186-aa0a-e3bf1076868d",
   "metadata": {
    "tags": []
   },
   "outputs": [],
   "source": [
    "plt.scatter(px[::10], py[::10], s=0.1)\n",
    "plt.axis([-2, 2, -2, 2])\n",
    "plt.vlines([0], -2, 2, \"y\")\n",
    "plt.hlines([0], -2, 2, \"y\")\n",
    "plt.vlines([np.mean(px)], -2, 2, \"k\")\n",
    "plt.hlines([np.mean(py)], -2, 2, \"k\")\n",
    "\n",
    "pass"
   ]
  },
  {
   "cell_type": "code",
   "execution_count": null,
   "id": "60bae455-a057-46cc-863d-5711c06bff02",
   "metadata": {
    "tags": []
   },
   "outputs": [],
   "source": [
    "sns.kdeplot(\n",
    "    {\"x\": px[::10], \"y\": py[::10]},\n",
    "    x=\"x\",\n",
    "    y=\"y\",\n",
    "    gridsize=30,\n",
    "    levels=100,\n",
    "    fill=True,\n",
    "    cmap=\"viridis\",\n",
    ")\n",
    "plt.axis([-2, 2, -2, 2])\n",
    "plt.vlines([0], -2, 2, \"y\")\n",
    "plt.hlines([0], -2, 2, \"y\")\n",
    "plt.vlines([np.mean(px)], -2, 2, \"k\")\n",
    "plt.hlines([np.mean(py)], -2, 2, \"k\")"
   ]
  },
  {
   "cell_type": "code",
   "execution_count": null,
   "id": "09e8d1fb-6de4-4e2d-a2d3-cab074f25fbd",
   "metadata": {
    "tags": []
   },
   "outputs": [],
   "source": [
    "np.nanmedian(ee), np.nanmean(ee), np.nanmean(ex) / pix_sz, np.nanmean(ey) / pix_sz"
   ]
  },
  {
   "cell_type": "code",
   "execution_count": null,
   "id": "44a38bcf-a7d8-4297-b6f1-393c8d667da1",
   "metadata": {
    "tags": []
   },
   "outputs": [],
   "source": [
    "xx.ortho_geotransform"
   ]
  },
  {
   "cell_type": "code",
   "execution_count": null,
   "id": "00018eee-212f-4055-a13c-90c3ce8ffa63",
   "metadata": {
    "tags": []
   },
   "outputs": [],
   "source": [
    "_px = px[::10] + 1 / 5\n",
    "_py = py[::10] + 2 / 5\n",
    "\n",
    "sns.kdeplot(\n",
    "    {\"x\": _px, \"y\": _py},\n",
    "    x=\"x\",\n",
    "    y=\"y\",\n",
    "    gridsize=30,\n",
    "    levels=100,\n",
    "    fill=True,\n",
    "    cmap=\"viridis\",\n",
    ")\n",
    "plt.axis([-2, 2, -2, 2])\n",
    "plt.vlines([0], -2, 2, \"y\")\n",
    "plt.hlines([0], -2, 2, \"y\")\n",
    "plt.vlines([np.mean(_px)], -2, 2, \"k\")\n",
    "plt.hlines([np.mean(_py)], -2, 2, \"k\")"
   ]
  },
  {
   "cell_type": "markdown",
   "id": "7ba5e239-2c07-4787-89e6-38aecb635014",
   "metadata": {},
   "source": [
    "----------------------------------------------"
   ]
  },
  {
   "cell_type": "markdown",
   "id": "190485a8-3b0f-487e-86b2-e682b881d96a",
   "metadata": {},
   "source": [
    "### GCP Error Analysis: sub-image"
   ]
  },
  {
   "cell_type": "code",
   "execution_count": null,
   "id": "c69676aa-409f-4e01-8ea7-e936a1cfeb46",
   "metadata": {
    "tags": []
   },
   "outputs": [],
   "source": [
    "from odc.emit.gcps import to_pandas\n",
    "\n",
    "xx = to_pandas(sample)\n",
    "ny, nx = 256, 256  # sample[\"shape\"][1]\n",
    "\n",
    "_xx = xx[(xx.row < ny) * (xx.col < nx)]\n",
    "cropped_sample = {\n",
    "    \"id\": xx.attrs[\"id\"] + \"_cropped\",\n",
    "    \"shape\": (ny, nx),\n",
    "    **{k: v.tolist() for k, v in _xx.items()},\n",
    "}\n",
    "\n",
    "_csample = sub_sample(cropped_sample, 100)\n",
    "gbox = gcp_geobox(_csample)\n",
    "rio_gcp_tr = rio_gcp_transformer(_csample)\n",
    "\n",
    "err_max = 2.1\n",
    "\n",
    "if True:\n",
    "    rr1 = gcp_sample_error(cropped_sample, rio_gcp_tr)\n",
    "    rr2 = gcp_sample_error(cropped_sample, gbox)\n",
    "\n",
    "fig, ax = review_gcp_sample(_csample)"
   ]
  },
  {
   "cell_type": "code",
   "execution_count": null,
   "id": "f731de06-5964-4a04-b3c0-a70854079fc0",
   "metadata": {
    "tags": []
   },
   "outputs": [],
   "source": [
    "rr1.ee.std(0), rr2.ee.std(0)"
   ]
  },
  {
   "cell_type": "markdown",
   "id": "758fa22e-4488-4206-8784-2445877093e4",
   "metadata": {
    "tags": []
   },
   "source": [
    "### GDAL GCP with Z"
   ]
  },
  {
   "cell_type": "code",
   "execution_count": null,
   "id": "144789d0-4220-47f2-af22-c299fc968984",
   "metadata": {
    "tags": []
   },
   "outputs": [],
   "source": [
    "from odc.emit.gcps import extract_rio_gcps\n",
    "from rasterio.transform import GCPTransformer\n",
    "\n",
    "gcps = extract_rio_gcps(_sample, skip_z=False)\n",
    "display(len(gcps), gcps[:3])\n",
    "tr = GCPTransformer(gcps)\n",
    "x0, y0 = tr.xy(0, 0)\n",
    "[(tr.rowcol(x0, y0 + 0.01, zs=z, op=lambda x: x), z) for z in [None, 0, 100, 1000]]"
   ]
  },
  {
   "cell_type": "code",
   "execution_count": null,
   "id": "0babeedd-eb69-4fe9-bfc0-b6e1f339dbd2",
   "metadata": {
    "tags": []
   },
   "outputs": [],
   "source": [
    "gcps = extract_rio_gcps(_sample, skip_z=True)\n",
    "display(len(gcps), gcps[:3])\n",
    "tr = GCPTransformer(gcps)\n",
    "x0, y0 = tr.xy(0, 0)\n",
    "[(tr.rowcol(x0, y0 + 0.01, zs=z, op=lambda x: x), z) for z in [None, 0, 100, 1000]]"
   ]
  },
  {
   "cell_type": "code",
   "execution_count": null,
   "id": "7c0f440c-d95a-410c-a2d4-24a1b959028f",
   "metadata": {},
   "outputs": [],
   "source": []
  }
 ],
 "metadata": {
  "kernelspec": {
   "display_name": "KK",
   "language": "python",
   "name": "kk"
  },
  "language_info": {
   "codemirror_mode": {
    "name": "ipython",
    "version": 3
   },
   "file_extension": ".py",
   "mimetype": "text/x-python",
   "name": "python",
   "nbconvert_exporter": "python",
   "pygments_lexer": "ipython3",
   "version": "3.10.12"
  }
 },
 "nbformat": 4,
 "nbformat_minor": 5
}
