{
 "cells": [
  {
   "cell_type": "markdown",
   "id": "e31b1e96-7bd5-4a02-8e55-36e894318fb7",
   "metadata": {},
   "source": [
    "# Debug Datacube Setup\n",
    "\n",
    "This notebook is for debugging datacube metadata and connection to local db.\n",
    "\n",
    "## Python Environment\n",
    "\n",
    "Follow instructions in [README.rst](../README.rst) to bootstrap an `emit` Python environment and register it with the Jupyter server. To pull in fresh changes run\n",
    "\n",
    "```bash\n",
    "./scripts/update-libs.sh\n",
    "```\n",
    "\n",
    "## Local Database\n",
    "\n",
    "Follow [db-setup](../db-setup.md) to bootrstrap local datacube db instance with sample data. If done previously, just make sure that database server is running with [scripts/db.sh](../scripts/db.sh).\n",
    "\n",
    "```bash\n",
    "./scripts/db.sh start\n",
    "```"
   ]
  },
  {
   "cell_type": "markdown",
   "id": "7219a7c8-af4b-4401-bf9e-1b42225cdf85",
   "metadata": {},
   "source": [
    "## Check Environment"
   ]
  },
  {
   "cell_type": "code",
   "execution_count": null,
   "id": "38e8168b-d9e9-4b3b-b826-9d68cb4fce42",
   "metadata": {},
   "outputs": [],
   "source": [
    "import os\n",
    "import sys\n",
    "\n",
    "from odc.emit import dump_py_env\n",
    "\n",
    "if \"ODC_EMIT_DB_URL\" not in os.environ:\n",
    "    print(\"Updating ENV\")\n",
    "    for e in os.environ:\n",
    "        if e.startswith(\"DB_\"):\n",
    "            os.environ.pop(e, None)\n",
    "\n",
    "    os.environ[\"ODC_EMIT_DB_URL\"] = \"postgresql:///datacube?host=/tmp\"\n",
    "\n",
    "dump_py_env()"
   ]
  },
  {
   "cell_type": "markdown",
   "id": "a05fbc7a-550c-4a84-9e4f-234026de9f25",
   "metadata": {},
   "source": [
    "## Connect to local db"
   ]
  },
  {
   "cell_type": "code",
   "execution_count": null,
   "id": "8115856a-ab0e-41fc-96bd-39ee071721a3",
   "metadata": {
    "tags": []
   },
   "outputs": [],
   "source": [
    "import datacube\n",
    "import odc.emit\n",
    "import odc.geo\n",
    "import odc.stac\n",
    "import sqlalchemy\n",
    "from datacube import Datacube\n",
    "from datacube.cfg.api import ODCConfig, ODCEnvironment\n",
    "from datacube.storage import BandInfo, measurement_paths\n",
    "from datacube.testutils.io import eo3_geobox\n",
    "from datacube.utils.serialise import jsonify_document\n",
    "from IPython.display import JSON, display, Markdown\n",
    "from odc.geo.geom import unary_union\n",
    "\n",
    "\n",
    "def band_to_json(bb):\n",
    "    return jsonify_document({k: getattr(bb, k) for k in bb.__slots__})\n",
    "\n",
    "\n",
    "dc = Datacube(env=\"emit\")"
   ]
  },
  {
   "cell_type": "code",
   "execution_count": null,
   "id": "c11fc1b9-77e9-4a75-a6f6-0f6d76ebb8e3",
   "metadata": {
    "tags": []
   },
   "outputs": [],
   "source": [
    "dc.list_products(with_pandas=False)"
   ]
  },
  {
   "cell_type": "code",
   "execution_count": null,
   "id": "eee38732-b39d-48c4-900f-c97a3c981eb7",
   "metadata": {
    "tags": []
   },
   "outputs": [],
   "source": [
    "list(dc.index.datasets.count_by_product())"
   ]
  },
  {
   "cell_type": "markdown",
   "id": "9b159768-0c7e-43d3-808b-8bb8ed35d53f",
   "metadata": {},
   "source": [
    "## Review EMIT product"
   ]
  },
  {
   "cell_type": "code",
   "execution_count": null,
   "id": "bd75629c-f3d6-48f9-8c28-564b9e3d93dc",
   "metadata": {
    "tags": []
   },
   "outputs": [],
   "source": [
    "p = dc.index.products.get_by_name(\"emit_l2a\")\n",
    "\n",
    "display(JSON(p.definition))\n",
    "print(\"-\" * 40)\n",
    "display(JSON(p.extra_dimensions.dims[\"wavelength\"]))\n",
    "print(\"-\" * 40)\n",
    "display(p.load_hints())"
   ]
  },
  {
   "cell_type": "code",
   "execution_count": null,
   "id": "3a830631-1f67-44f6-b789-2b519e5467a2",
   "metadata": {
    "tags": []
   },
   "outputs": [],
   "source": [
    "dss = dc.find_datasets(\n",
    "    product=\"emit_l2a\",\n",
    "    lon=(146, 149),\n",
    "    lat=(-37, -36),\n",
    ")\n",
    "display(len(dss), unary_union([ds.extent.exterior for ds in dss]))"
   ]
  },
  {
   "cell_type": "code",
   "execution_count": null,
   "id": "b7ff3c16-6bf2-48cb-a796-f46918e86b12",
   "metadata": {
    "tags": []
   },
   "outputs": [],
   "source": [
    "dss = dc.find_datasets(\n",
    "    product=\"emit_l2a\",\n",
    "    lon=(146, 149),\n",
    "    lat=(-37, -36),\n",
    "    time=\"2023-10\",\n",
    ")\n",
    "display(len(dss), unary_union([ds.extent.exterior for ds in dss]))"
   ]
  },
  {
   "cell_type": "code",
   "execution_count": null,
   "id": "0a228af2-4cdc-457f-8a87-ea3151d99c59",
   "metadata": {
    "tags": []
   },
   "outputs": [],
   "source": [
    "ds = dss[0]\n",
    "gbox = eo3_geobox(ds, \"elev\")\n",
    "display(\n",
    "    ds.time,\n",
    "    ds.crs,\n",
    "    ds.extent,\n",
    "    gbox,\n",
    "    JSON(ds.product.extra_dimensions.dims[\"wavelength\"]),\n",
    ")"
   ]
  },
  {
   "cell_type": "code",
   "execution_count": null,
   "id": "0c1d7a23-58a7-4a34-83a0-5a9708be197b",
   "metadata": {
    "tags": []
   },
   "outputs": [],
   "source": [
    "bands = {band: BandInfo(ds, band) for band in ds.product.measurements}\n",
    "display(JSON({name: band_to_json(bb) for name, bb in bands.items()}))"
   ]
  },
  {
   "cell_type": "code",
   "execution_count": null,
   "id": "492f3526-08cd-48e4-a8ef-15633b1b7c3b",
   "metadata": {
    "tags": []
   },
   "outputs": [],
   "source": [
    "JSON(ds.metadata_doc)"
   ]
  },
  {
   "cell_type": "markdown",
   "id": "83115c9b-aa49-44fc-a31f-da0705f2854e",
   "metadata": {},
   "source": [
    "## Review AVIS product"
   ]
  },
  {
   "cell_type": "code",
   "execution_count": null,
   "id": "795a4707-a400-41f0-9ad4-596c551f8552",
   "metadata": {
    "tags": []
   },
   "outputs": [],
   "source": [
    "dss = dc.find_datasets(\n",
    "    product=\"av3_l2a\",\n",
    ")\n",
    "display(len(dss), unary_union([ds.extent.exterior for ds in dss]))"
   ]
  },
  {
   "cell_type": "code",
   "execution_count": null,
   "id": "f45b2a93-e06f-4ba8-99eb-483c83145da5",
   "metadata": {
    "tags": []
   },
   "outputs": [],
   "source": [
    "ds = dss[0]\n",
    "gbox = eo3_geobox(ds, \"rfl\")\n",
    "display(\n",
    "    ds.time,\n",
    "    ds.crs,\n",
    "    ds.extent,\n",
    "    gbox,\n",
    "    JSON(ds.product.extra_dimensions.dims[\"wavelength\"]),\n",
    ")"
   ]
  },
  {
   "cell_type": "code",
   "execution_count": null,
   "id": "0683d7d3-62bb-4887-a60a-ff0cfd7bc415",
   "metadata": {
    "tags": []
   },
   "outputs": [],
   "source": [
    "display(\n",
    "    JSON(ds.metadata_doc),\n",
    "    Markdown(\"---------------\"),\n",
    "    ds.product.load_hints(),\n",
    "    Markdown(\"---------------\"),\n",
    "    measurement_paths(ds),\n",
    ")"
   ]
  },
  {
   "cell_type": "markdown",
   "id": "b62f0c0b-0739-41b1-9b52-63346e98c4e8",
   "metadata": {},
   "source": [
    "### Check with dask (no compute)\n",
    "\n",
    "These won't load and don't handle extra coordinates, but is good for checking sanity of time and spatial metadata present in the db."
   ]
  },
  {
   "cell_type": "markdown",
   "id": "fdc1b706-2cb3-4c46-9f53-84cf6ac675ad",
   "metadata": {},
   "source": [
    "#### Ungrouped\n",
    "\n",
    "Expect to see 8 temporal slices with timestamps on 2023-09-15 UTC."
   ]
  },
  {
   "cell_type": "code",
   "execution_count": null,
   "id": "b3833128-6318-4c01-b3e5-c668f5cefd29",
   "metadata": {},
   "outputs": [],
   "source": [
    "xx = dc.load(product=\"av3_l2a\", dask_chunks={})\n",
    "display(xx, xx.odc.geobox)\n",
    "assert xx.time.shape[0] == 8"
   ]
  },
  {
   "cell_type": "markdown",
   "id": "4496619d-efb8-409d-a9c8-91bae9f70c92",
   "metadata": {},
   "source": [
    "#### Group by solar day\n",
    "\n",
    "Again but group by solar day, expect to see one single time slice."
   ]
  },
  {
   "cell_type": "code",
   "execution_count": null,
   "id": "24c82130-9af6-40cc-82ac-edb5e1e7c2a2",
   "metadata": {
    "tags": []
   },
   "outputs": [],
   "source": [
    "xx = dc.load(product=\"av3_l2a\", dask_chunks={}, group_by=\"solar_day\")\n",
    "display(xx, xx.odc.geobox)\n",
    "assert xx.time.shape[0] == 1"
   ]
  },
  {
   "cell_type": "markdown",
   "id": "1c73a6d1-9efb-4de5-b373-4ae512b6dce2",
   "metadata": {},
   "source": [
    "## Misc"
   ]
  },
  {
   "cell_type": "code",
   "execution_count": null,
   "id": "dcc7455e-92c7-4825-9f1d-d4d1ae9f8a89",
   "metadata": {
    "tags": []
   },
   "outputs": [],
   "source": [
    "#!~/.envs/emit/bin/datacube -E emit system check\n",
    "\n",
    "#!~/.envs/emit/bin/datacube -E emit product update --allow-unsafe av3.yaml"
   ]
  },
  {
   "cell_type": "markdown",
   "id": "71eb633b-24b8-46ff-90b1-2b2d73341722",
   "metadata": {},
   "source": [
    "--------------"
   ]
  }
 ],
 "metadata": {
  "kernelspec": {
   "display_name": "emit",
   "language": "python",
   "name": "emit"
  },
  "language_info": {
   "codemirror_mode": {
    "name": "ipython",
    "version": 3
   },
   "file_extension": ".py",
   "mimetype": "text/x-python",
   "name": "python",
   "nbconvert_exporter": "python",
   "pygments_lexer": "ipython3",
   "version": "3.10.12"
  }
 },
 "nbformat": 4,
 "nbformat_minor": 5
}
