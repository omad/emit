{
 "cells": [
  {
   "cell_type": "markdown",
   "id": "e42a7a45-1b06-4b2e-8217-25944dfdac75",
   "metadata": {
    "tags": []
   },
   "source": [
    "# Debug Datacube Setup\n",
    "\n",
    "This notebook is for debugging datacube metadata and connection to local db."
   ]
  },
  {
   "cell_type": "markdown",
   "id": "3d1a7334-e8d8-4d57-bb92-603f9e405029",
   "metadata": {
    "tags": []
   },
   "source": [
    "## Python Environment\n",
    "\n",
    "Follow instructions in [README.rst](../README.rst) to bootstrap an `emit` Python environment and register it with the Jupyter server. To pull in fresh changes run\n",
    "\n",
    "```bash\n",
    "./scripts/update-libs.sh\n",
    "```"
   ]
  },
  {
   "cell_type": "markdown",
   "id": "be275f87-6bc7-4714-a91a-21aca32d3b5b",
   "metadata": {
    "tags": []
   },
   "source": [
    "## Local Database\n",
    "\n",
    "Follow [db-setup](../db-setup.md) to bootrstrap local datacube db instance with sample data. If done previously, just make sure that database server is running with [scripts/db.sh](../scripts/db.sh).\n",
    "\n",
    "```bash\n",
    "./scripts/db.sh start\n",
    "```"
   ]
  },
  {
   "cell_type": "markdown",
   "id": "5ac4298a-c8b3-4936-b248-928780acc12d",
   "metadata": {
    "tags": []
   },
   "source": [
    "## Check Environment"
   ]
  },
  {
   "cell_type": "code",
   "execution_count": null,
   "id": "38e8168b-d9e9-4b3b-b826-9d68cb4fce42",
   "metadata": {},
   "outputs": [],
   "source": [
    "import os\n",
    "from odc.emit import dump_py_env\n",
    "\n",
    "if \"ODC_EMIT_DB_URL\" not in os.environ:\n",
    "    print(\"Updating ENV\")\n",
    "    for e in os.environ:\n",
    "        if e.startswith(\"DB_\"):\n",
    "            os.environ.pop(e, None)\n",
    "\n",
    "    os.environ[\"ODC_EMIT_DB_URL\"] = \"postgresql:///datacube?host=/tmp\"\n",
    "\n",
    "dump_py_env()"
   ]
  },
  {
   "cell_type": "markdown",
   "id": "a05fbc7a-550c-4a84-9e4f-234026de9f25",
   "metadata": {
    "tags": []
   },
   "source": [
    "# Inspect DB"
   ]
  },
  {
   "cell_type": "code",
   "execution_count": null,
   "id": "8115856a-ab0e-41fc-96bd-39ee071721a3",
   "metadata": {
    "tags": []
   },
   "outputs": [],
   "source": [
    "from datacube import Datacube\n",
    "from datacube.storage import BandInfo, measurement_paths\n",
    "from datacube.testutils.io import eo3_geobox\n",
    "from datacube.utils.serialise import jsonify_document\n",
    "from IPython.display import JSON, Markdown, display\n",
    "from odc.geo.geom import unary_union\n",
    "\n",
    "\n",
    "def band_to_json(bb):\n",
    "    return jsonify_document({k: getattr(bb, k) for k in bb.__slots__})\n",
    "\n",
    "\n",
    "dc = Datacube(env=\"emit\")"
   ]
  },
  {
   "cell_type": "code",
   "execution_count": null,
   "id": "c11fc1b9-77e9-4a75-a6f6-0f6d76ebb8e3",
   "metadata": {
    "tags": []
   },
   "outputs": [],
   "source": [
    "dc.list_products(with_pandas=False)"
   ]
  },
  {
   "cell_type": "code",
   "execution_count": null,
   "id": "eee38732-b39d-48c4-900f-c97a3c981eb7",
   "metadata": {
    "tags": []
   },
   "outputs": [],
   "source": [
    "list(dc.index.datasets.count_by_product())"
   ]
  },
  {
   "cell_type": "markdown",
   "id": "9b159768-0c7e-43d3-808b-8bb8ed35d53f",
   "metadata": {
    "tags": []
   },
   "source": [
    "# Review EMIT product"
   ]
  },
  {
   "cell_type": "markdown",
   "id": "047d138a-1cab-494b-9cb8-cb6cdceb01a1",
   "metadata": {},
   "source": [
    "## Query Datasets"
   ]
  },
  {
   "cell_type": "markdown",
   "id": "4511d1eb-21c6-4c5f-b432-5343db9a5fb8",
   "metadata": {},
   "source": [
    "Check that limit by space works."
   ]
  },
  {
   "cell_type": "code",
   "execution_count": null,
   "id": "9350bec6-9b93-40bb-bff9-4ca78893b523",
   "metadata": {
    "tags": []
   },
   "outputs": [],
   "source": [
    "p = dc.index.products.get_by_name(\"emit_l2a\")\n",
    "\n",
    "dss = dc.find_datasets(\n",
    "    product=\"emit_l2a\",\n",
    "    lon=(146, 149),\n",
    "    lat=(-37, -36),\n",
    ")\n",
    "display(len(dss), unary_union([ds.extent.exterior for ds in dss]))"
   ]
  },
  {
   "cell_type": "markdown",
   "id": "ace22e21-37f5-4cff-bc97-f42f6667734b",
   "metadata": {},
   "source": [
    "Check that limit by time and space also works. Expect only 2 datasets to come out."
   ]
  },
  {
   "cell_type": "code",
   "execution_count": null,
   "id": "34c093b2-8640-4348-bd2b-20d723752954",
   "metadata": {
    "tags": []
   },
   "outputs": [],
   "source": [
    "dss = dc.find_datasets(\n",
    "    product=\"emit_l2a\",\n",
    "    lon=(146, 149),\n",
    "    lat=(-37, -36),\n",
    "    time=\"2023-10\",\n",
    ")\n",
    "display(len(dss), unary_union([ds.extent.exterior for ds in dss]))"
   ]
  },
  {
   "cell_type": "markdown",
   "id": "0aab45b0-b741-43c2-83e8-04dc0a2bfc19",
   "metadata": {},
   "source": [
    "## Inspect Dataset"
   ]
  },
  {
   "cell_type": "code",
   "execution_count": null,
   "id": "47d71e0e-a444-4a04-9127-f02ec7a8534c",
   "metadata": {
    "tags": []
   },
   "outputs": [],
   "source": [
    "ds = dss[0]\n",
    "gbox = eo3_geobox(ds, \"elev\")\n",
    "\n",
    "bands = {band: BandInfo(ds, band) for band in ds.product.measurements}\n",
    "\n",
    "display(\n",
    "    Markdown(f\"### Product\"),\n",
    "    Markdown(\"#### Extra Dims\"),\n",
    "    JSON(ds.product.extra_dimensions.dims[\"wavelength\"]),\n",
    "    Markdown(\"#### Load hints\"),\n",
    "    ds.product.load_hints(),\n",
    "    \n",
    "    Markdown(\"### Dataset\"),\n",
    "    Markdown(f\"\"\"\n",
    "| property| value|\n",
    "|:-------|:-----------------------------|\n",
    "|product | {ds.product.name} |\n",
    "|uuid    | {ds.id} |\n",
    "|t.start | {ds.time.begin.isoformat()} |\n",
    "|t.end   | {ds.time.end.isoformat()} |\n",
    "|epsg    | {ds.crs.epsg} |\n",
    "|resolution| {gbox.resolution.x} |\n",
    "\"\"\"),\n",
    "\n",
    "    gbox,\n",
    "\n",
    "    Markdown(\"#### BandInfo objects\"),\n",
    "    JSON({name: band_to_json(bb) for name, bb in bands.items()}),\n",
    "\n",
    "    Markdown(\"#### Metadata Document (full)\"),\n",
    "    JSON(ds.metadata_doc),\n",
    "    Markdown(\"#### Measurement Paths\"),\n",
    "    JSON(measurement_paths(ds)),\n",
    ")"
   ]
  },
  {
   "cell_type": "markdown",
   "id": "83115c9b-aa49-44fc-a31f-da0705f2854e",
   "metadata": {
    "tags": []
   },
   "source": [
    "# Review AVIRIS product"
   ]
  },
  {
   "cell_type": "markdown",
   "id": "46222f88-adfb-465d-a7ba-48e953e7ec4e",
   "metadata": {},
   "source": [
    "## Query Datasets"
   ]
  },
  {
   "cell_type": "code",
   "execution_count": null,
   "id": "795a4707-a400-41f0-9ad4-596c551f8552",
   "metadata": {
    "tags": []
   },
   "outputs": [],
   "source": [
    "dss_av3 = dc.find_datasets(\n",
    "    product=\"av3_l2a\",\n",
    ")\n",
    "display(len(dss), unary_union([ds.extent.exterior for ds in dss_av3]))"
   ]
  },
  {
   "cell_type": "markdown",
   "id": "5e844eb7-f794-4511-836b-3d01cd0813cb",
   "metadata": {
    "tags": []
   },
   "source": [
    "## Inspect Dataset"
   ]
  },
  {
   "cell_type": "code",
   "execution_count": null,
   "id": "a274a439-a6b2-44ff-8e76-a3c3d5761533",
   "metadata": {
    "tags": []
   },
   "outputs": [],
   "source": [
    "ds = dss_av3[0]\n",
    "gbox = eo3_geobox(ds, \"rfl\")\n",
    "bands = {band: BandInfo(ds, band) for band in ds.product.measurements}\n",
    "\n",
    "display(\n",
    "    Markdown(f\"### Product\"),\n",
    "    Markdown(\"#### Extra Dims\"),\n",
    "    JSON(ds.product.extra_dimensions.dims[\"wavelength\"]),\n",
    "    Markdown(\"#### Load hints\"),\n",
    "    ds.product.load_hints(),\n",
    "    \n",
    "    Markdown(\"### Dataset\"),\n",
    "\n",
    "    Markdown(f\"\"\"\n",
    "| property| value|\n",
    "|:-------|:-----------------------------|\n",
    "|granule | {ds.metadata_doc['properties']['av3:granule']} |\n",
    "|uuid    | {ds.id} |\n",
    "|t.start | {ds.time.begin.isoformat()} |\n",
    "|t.end   | {ds.time.end.isoformat()} |\n",
    "|epsg    | {ds.crs.epsg} |\n",
    "|resolution| {gbox.resolution.x} |\n",
    "\"\"\"),\n",
    "\n",
    "    gbox,\n",
    "\n",
    "    Markdown(\"#### BandInfo objects\"),\n",
    "    JSON({name: band_to_json(bb) for name, bb in bands.items()}),\n",
    "    Markdown(\"#### Metadata Document\"),\n",
    "    JSON(ds.metadata_doc),\n",
    "    Markdown(\"#### Measurement Paths\"),\n",
    "    JSON(measurement_paths(ds)),\n",
    ")"
   ]
  },
  {
   "cell_type": "markdown",
   "id": "b62f0c0b-0739-41b1-9b52-63346e98c4e8",
   "metadata": {
    "tags": []
   },
   "source": [
    "## Check with dask (no compute)\n",
    "\n",
    "These won't load and don't handle extra coordinates, but is good for checking sanity of time and spatial metadata present in the db."
   ]
  },
  {
   "cell_type": "markdown",
   "id": "fdc1b706-2cb3-4c46-9f53-84cf6ac675ad",
   "metadata": {},
   "source": [
    "### Ungrouped\n",
    "\n",
    "Expect to see 8 temporal slices with timestamps on 2023-09-15 UTC."
   ]
  },
  {
   "cell_type": "code",
   "execution_count": null,
   "id": "b3833128-6318-4c01-b3e5-c668f5cefd29",
   "metadata": {},
   "outputs": [],
   "source": [
    "xx = dc.load(product=\"av3_l2a\", dask_chunks={})\n",
    "display(xx, xx.odc.geobox)\n",
    "assert xx.time.shape[0] == 8"
   ]
  },
  {
   "cell_type": "markdown",
   "id": "4496619d-efb8-409d-a9c8-91bae9f70c92",
   "metadata": {},
   "source": [
    "### Group by solar day\n",
    "\n",
    "Again but group by solar day, expect to see one single time slice."
   ]
  },
  {
   "cell_type": "code",
   "execution_count": null,
   "id": "24c82130-9af6-40cc-82ac-edb5e1e7c2a2",
   "metadata": {
    "tags": []
   },
   "outputs": [],
   "source": [
    "xx = dc.load(product=\"av3_l2a\", dask_chunks={}, group_by=\"solar_day\")\n",
    "display(xx)\n",
    "assert xx.time.shape[0] == 1"
   ]
  },
  {
   "cell_type": "markdown",
   "id": "1c73a6d1-9efb-4de5-b373-4ae512b6dce2",
   "metadata": {},
   "source": [
    "# Misc"
   ]
  },
  {
   "cell_type": "code",
   "execution_count": null,
   "id": "dcc7455e-92c7-4825-9f1d-d4d1ae9f8a89",
   "metadata": {
    "tags": []
   },
   "outputs": [],
   "source": [
    "#!~/.envs/emit/bin/datacube -E emit system check\n",
    "\n",
    "#!~/.envs/emit/bin/datacube -E emit product update --allow-unsafe av3.yaml"
   ]
  },
  {
   "cell_type": "code",
   "execution_count": null,
   "id": "ab965cc2-94e2-44dc-b8da-e6290d18ff80",
   "metadata": {
    "tags": []
   },
   "outputs": [],
   "source": [
    "import pickle\n",
    "\n",
    "if False:\n",
    "    pickle.dump(dss, open(\"dss-av3.pkl\", \"bw\"))"
   ]
  },
  {
   "cell_type": "markdown",
   "id": "71eb633b-24b8-46ff-90b1-2b2d73341722",
   "metadata": {},
   "source": [
    "--------------"
   ]
  }
 ],
 "metadata": {
  "kernelspec": {
   "display_name": "emit",
   "language": "python",
   "name": "emit"
  },
  "language_info": {
   "codemirror_mode": {
    "name": "ipython",
    "version": 3
   },
   "file_extension": ".py",
   "mimetype": "text/x-python",
   "name": "python",
   "nbconvert_exporter": "python",
   "pygments_lexer": "ipython3",
   "version": "3.10.12"
  }
 },
 "nbformat": 4,
 "nbformat_minor": 5
}
