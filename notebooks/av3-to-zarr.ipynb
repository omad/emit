{
 "cells": [
  {
   "cell_type": "markdown",
   "id": "3ebd7f44-9ce6-4cad-bbee-8df2f9fdec86",
   "metadata": {
    "tags": []
   },
   "source": [
    "# AVIRIS: ENVI -> ZARR"
   ]
  },
  {
   "cell_type": "markdown",
   "id": "8f32f952-4930-489b-9b03-53c6085dc21a",
   "metadata": {},
   "source": [
    "Convert local ENVI files to local zarr files."
   ]
  },
  {
   "cell_type": "code",
   "execution_count": null,
   "id": "f41ab4b3-9746-4606-81de-de145d14f1f0",
   "metadata": {
    "tags": []
   },
   "outputs": [],
   "source": [
    "import numpy as np\n",
    "import xarray as xr\n",
    "import zarr\n",
    "from odc.av3 import av3_xr_load"
   ]
  },
  {
   "cell_type": "code",
   "execution_count": null,
   "id": "e4d21718-7dd0-4074-9e3d-883add087996",
   "metadata": {
    "tags": []
   },
   "outputs": [],
   "source": [
    "# base = \"/tmp/av3/AV320230915t213013_L2A_OE_main_98b13fff\"\n",
    "# base = \"/tmp/av3/AV320230915t214314_L2A_OE_main_98b13fff\"\n",
    "base = \"/tmp/av3/AV320230915t214955_L2A_OE_main_98b13fff\"\n",
    "\n",
    "s3_base = base.replace(\"/tmp/av3/\", \"s3://adias-prod-dc-data-projects/odc-hs/av3/\")\n",
    "base, s3_base"
   ]
  },
  {
   "cell_type": "markdown",
   "id": "839d388c-5c29-42c5-a0e8-c2ae6c2b5ab0",
   "metadata": {},
   "source": [
    "## Construct xarray.Dataset from local ENVI files\n",
    "\n",
    "Code in `av3_xr_load` is using `numpy.memmap` to create unchunked views of the original data without loading all of it into RAM. Natively data is stored in `bil` (band interleaved lines) mode, which is equivalent to `Y,B,X` order. On output we use `Y,X,B` order for dimensions. Geospatial information is extracted using `rasterio` and added to the xarray in a format undesrtood by `odc` libraries and by `rioxarray` library also."
   ]
  },
  {
   "cell_type": "code",
   "execution_count": null,
   "id": "3c4760a6-0873-49e4-b70b-f68d23df8d61",
   "metadata": {
    "tags": []
   },
   "outputs": [],
   "source": [
    "ds = av3_xr_load(base)\n",
    "display(ds.odc.geobox, ds.odc.transform, ds)"
   ]
  },
  {
   "cell_type": "markdown",
   "id": "046f5a48-a99c-4952-8e6e-7c1a8f955013",
   "metadata": {},
   "source": [
    "## Save to local zarr store"
   ]
  },
  {
   "cell_type": "markdown",
   "id": "2d6ab4bd-62d8-4f80-b4ec-3ccd5ffc0004",
   "metadata": {},
   "source": [
    "Writing zarr directly to S3 is also possible, but I was hitting RAM issues with it though (24GB RAM container), probably due to in-place rechunking that was happening.\n",
    "\n",
    "Cell below can take about 5-10 minutes to run."
   ]
  },
  {
   "cell_type": "code",
   "execution_count": null,
   "id": "d58dd30d-2bb2-422c-8b77-a621a1d3e128",
   "metadata": {
    "tags": []
   },
   "outputs": [],
   "source": [
    "%%time\n",
    "# configure chunking and compression\n",
    "\n",
    "chunks = (400, -1, 20)  # y,x,b\n",
    "compressor = zarr.Blosc(cname=\"zstd\", clevel=6, shuffle=1)\n",
    "\n",
    "for dv in ds.data_vars.values():\n",
    "    dv.encoding[\"compressor\"] = compressor\n",
    "    dv.encoding[\"chunks\"] = chunks[: dv.ndim]\n",
    "\n",
    "ds.to_zarr(\n",
    "    f\"{base}.zarr\",\n",
    "    mode=\"w\",\n",
    "    consolidated=True,\n",
    ")"
   ]
  },
  {
   "cell_type": "markdown",
   "id": "b3cbe491-60db-4136-9c6c-d0f9ec3f3066",
   "metadata": {
    "tags": []
   },
   "source": [
    "## Upload zarr from /tmp to S3"
   ]
  },
  {
   "cell_type": "markdown",
   "id": "ade71f31-284d-420c-8822-75a8632dcb19",
   "metadata": {},
   "source": [
    "Remove `--dryrun` to actually upload the data."
   ]
  },
  {
   "cell_type": "code",
   "execution_count": null,
   "id": "ca62c38f-a0da-4acf-9379-7f984cb3f10d",
   "metadata": {
    "tags": []
   },
   "outputs": [],
   "source": [
    "!(cd {base}.zarr && aws s3 sync . {s3_base}.zarr/ --dryrun)"
   ]
  },
  {
   "cell_type": "markdown",
   "id": "0d89b293-c454-4db5-ad7c-cf0fe4c0b69d",
   "metadata": {},
   "source": [
    "## Inspect metadata yaml"
   ]
  },
  {
   "cell_type": "markdown",
   "id": "86f494ed-d560-4645-babe-02582d06fa23",
   "metadata": {},
   "source": [
    "We should probably copy some metadata from yaml into xarray attributes, `mean_solar_{az|zn}` looks usefull."
   ]
  },
  {
   "cell_type": "code",
   "execution_count": null,
   "id": "55a69717-6e7d-464a-8a37-92ea04289103",
   "metadata": {
    "tags": []
   },
   "outputs": [],
   "source": [
    "import yaml\n",
    "from IPython.display import JSON, Markdown\n",
    "\n",
    "md_doc = yaml.load(open(f\"{base}.yaml\", \"r\"), yaml.CSafeLoader)\n",
    "display(\n",
    "    Markdown(\"## Lineage ORT\"),\n",
    "    JSON(md_doc[\"lineage\"][\"ORT\"]),\n",
    "\n",
    "    Markdown(\"## Lineage RDN\"),\n",
    "    JSON(md_doc[\"lineage\"][\"RDN\"]),\n",
    "    \n",
    "    Markdown(\"## Full Document\"),\n",
    "    JSON(md_doc),\n",
    ")"
   ]
  },
  {
   "cell_type": "markdown",
   "id": "eedaad25-fc94-41eb-b6c3-e1d8743c9318",
   "metadata": {},
   "source": [
    "---------------------------"
   ]
  }
 ],
 "metadata": {
  "kernelspec": {
   "display_name": "emit",
   "language": "python",
   "name": "emit"
  },
  "language_info": {
   "codemirror_mode": {
    "name": "ipython",
    "version": 3
   },
   "file_extension": ".py",
   "mimetype": "text/x-python",
   "name": "python",
   "nbconvert_exporter": "python",
   "pygments_lexer": "ipython3",
   "version": "3.10.12"
  }
 },
 "nbformat": 4,
 "nbformat_minor": 5
}
