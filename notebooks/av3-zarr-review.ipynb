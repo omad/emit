{
 "cells": [
  {
   "cell_type": "markdown",
   "id": "e5feef21-4da9-40de-8b30-68dbcca255bd",
   "metadata": {},
   "source": [
    "# AVIRIS: sample zarr access"
   ]
  },
  {
   "cell_type": "markdown",
   "id": "8e9d9645-8a5e-44a0-8561-9dc00a7bfecf",
   "metadata": {},
   "source": [
    "Sample zarr files were produced from downloaded tar archives using [av3-to-zarr](av3-to-zarr.ipynb) notebook.\n",
    "\n",
    "Needs a fairly new version of `odc-geo`\n",
    "\n",
    "```\n",
    "pip install \"odc-geo>=0.4.7\"\n",
    "```"
   ]
  },
  {
   "cell_type": "code",
   "execution_count": null,
   "id": "8eb7456e-be3a-4cd3-9afe-ae96ab32481b",
   "metadata": {
    "tags": []
   },
   "outputs": [],
   "source": [
    "import numpy as np\n",
    "import odc.geo.xr  # needed for .odc. accessor\n",
    "import xarray as xr"
   ]
  },
  {
   "cell_type": "markdown",
   "id": "7c4e4e69-bf6b-448a-9cf2-d88f709ce654",
   "metadata": {
    "tags": []
   },
   "source": [
    "## Xarray.open_zarr"
   ]
  },
  {
   "cell_type": "markdown",
   "id": "be7d8a54-7dac-457c-adc9-0534d18315de",
   "metadata": {
    "tags": []
   },
   "source": [
    "When loading data with xarray it's important to use this configuration:\n",
    "\n",
    "```python\n",
    "xarray.open_zarr(..., decode_coords=\"all\")\n",
    "```\n",
    "\n",
    "Keep in mind that load is \"lazy\", no actual pixels are loaded yet, but spatial metadata is available so one can focus on a specific region and only load that part."
   ]
  },
  {
   "cell_type": "code",
   "execution_count": null,
   "id": "dc202bb7-b4a8-463b-82ba-876140f94d5b",
   "metadata": {
    "tags": []
   },
   "outputs": [],
   "source": [
    "urls = [\n",
    "    \"s3://adias-prod-dc-data-projects/odc-hs/av3/AV320230915t213013_L2A_OE_main_98b13fff.zarr\",\n",
    "    \"s3://adias-prod-dc-data-projects/odc-hs/av3/AV320230915t214314_L2A_OE_main_98b13fff.zarr\",\n",
    "    \"s3://adias-prod-dc-data-projects/odc-hs/av3/AV320230915t214955_L2A_OE_main_98b13fff.zarr\",\n",
    "]\n",
    "xxs = [xr.open_zarr(url, decode_coords=\"all\") for url in urls]\n",
    "\n",
    "xx = xxs[0]  # Pick first one for review\n",
    "display(xx.odc.geobox, xx.odc.spatial_dims, xx.odc.transform, xx)"
   ]
  },
  {
   "cell_type": "markdown",
   "id": "8f7bac1e-420a-472b-b0a3-d9246c1deccf",
   "metadata": {
    "tags": []
   },
   "source": [
    "## Review Infrared Band nearest to 1000nm"
   ]
  },
  {
   "cell_type": "markdown",
   "id": "680460f8-43af-4b80-ad50-1b18465bae0e",
   "metadata": {},
   "source": [
    "### Load into RAM"
   ]
  },
  {
   "cell_type": "code",
   "execution_count": null,
   "id": "6ed5279e-4bc1-424d-94f8-b63ef5eea358",
   "metadata": {
    "tags": []
   },
   "outputs": [],
   "source": [
    "%%time\n",
    "ir = xx.rfl.sel(wavelength=1000, method=\"nearest\").rename(\"ir\").compute()"
   ]
  },
  {
   "cell_type": "markdown",
   "id": "8c553567-8490-4097-aaf3-ce6271fd13a3",
   "metadata": {},
   "source": [
    "### Plot on a Map"
   ]
  },
  {
   "cell_type": "code",
   "execution_count": null,
   "id": "a82b674b-8eaa-4adc-988d-4fffeac13820",
   "metadata": {
    "tags": []
   },
   "outputs": [],
   "source": [
    "ir.odc.explore(name=\"Infrared\", robust=True, cmap=\"OrRd\")"
   ]
  },
  {
   "cell_type": "markdown",
   "id": "40f818ce-038a-4b91-93e7-9662f124d055",
   "metadata": {},
   "source": [
    "## Review Visible Spectrum"
   ]
  },
  {
   "cell_type": "markdown",
   "id": "d5f30595-5a1c-4dbc-8d26-4567af842ddd",
   "metadata": {},
   "source": [
    "Produce RGBA image from bands nearest to 650, 550 and 450nm and display it on a map."
   ]
  },
  {
   "cell_type": "markdown",
   "id": "8832de61-6da9-4267-8088-357509adbb36",
   "metadata": {},
   "source": [
    "### Load into RAM"
   ]
  },
  {
   "cell_type": "code",
   "execution_count": null,
   "id": "ca8b7291-3030-433f-ac11-4eca2a76a475",
   "metadata": {
    "tags": []
   },
   "outputs": [],
   "source": [
    "%%time\n",
    "rgb = xx.rfl.sel(wavelength=[650, 550, 450], method=\"nearest\").compute()"
   ]
  },
  {
   "cell_type": "markdown",
   "id": "d91a1596-5c8e-4006-820b-b9be9f4c0e06",
   "metadata": {},
   "source": [
    "### Convert to RGBA"
   ]
  },
  {
   "cell_type": "markdown",
   "id": "21f94e99-b42c-4623-9a45-80d1ee293e45",
   "metadata": {},
   "source": [
    "- Compute alpha mask\n",
    "- Clip top and bottom 2% of pixel values\n",
    "- Remap remaining 96% of valid pixels into `[0, 255]` range for visual display\n",
    "- Form RGBA image using `uint8` pixels"
   ]
  },
  {
   "cell_type": "code",
   "execution_count": null,
   "id": "dd751ebb-5582-4be2-bb96-1239b309d5bb",
   "metadata": {
    "tags": []
   },
   "outputs": [],
   "source": [
    "# Transparency image in uint8\n",
    "alpha = xr.where(rgb[..., 0].isnull(), np.uint8(0), np.uint8(255))\n",
    "\n",
    "# RGB normalized to 0->1\n",
    "rmin, rmax = np.nanpercentile(rgb.data, [2, 98])\n",
    "rgb = ((rgb - rmin) / (rmax - rmin)).clip(0, 1)\n",
    "\n",
    "# RGBA (uint8: [0->255])\n",
    "rgba = xr.concat(\n",
    "    [(256 * rgb).clip(0, 255).astype(\"uint8\"), alpha],\n",
    "    dim=\"wavelength\",\n",
    ").rename(\"rgba\")"
   ]
  },
  {
   "cell_type": "markdown",
   "id": "301d75bd-4f92-42bc-8a54-55c164385ee1",
   "metadata": {},
   "source": [
    "### Plot on a Map"
   ]
  },
  {
   "cell_type": "markdown",
   "id": "9698fc3d-b70d-434a-b170-924097945ffa",
   "metadata": {},
   "source": [
    "- Display RGBA image\n",
    "- Add footprints to the map"
   ]
  },
  {
   "cell_type": "code",
   "execution_count": null,
   "id": "347e8add-df24-41d7-9ceb-d9eba80414e7",
   "metadata": {
    "tags": []
   },
   "outputs": [],
   "source": [
    "from folium import GeoJson\n",
    "\n",
    "_map = rgba.odc.explore(resampling=\"bilinear\", name=f\"{xx.id} RGBA\")\n",
    "\n",
    "# add footprints to the map\n",
    "for x in xxs:\n",
    "    gbox = x.odc.geobox\n",
    "    GeoJson(\n",
    "        gbox.extent.geojson(),\n",
    "        tooltip=f\"{x.id}\",\n",
    "        control=False,\n",
    "        name=f\"{x.id}\",\n",
    "    ).add_to(_map, index=2)\n",
    "\n",
    "display(_map)"
   ]
  },
  {
   "cell_type": "markdown",
   "id": "501d26a3-0c52-4c38-9179-dfc210111246",
   "metadata": {},
   "source": [
    "## Review Single Pixel Location"
   ]
  },
  {
   "cell_type": "markdown",
   "id": "85d5a2da-cbe0-4166-a6bc-39f293f7cb0f",
   "metadata": {},
   "source": [
    "Xarray currently lacks proper geospatial index. So let's define `latlon_query` that translates a single point specified in lat lon into a pixel location that xarray can understand."
   ]
  },
  {
   "cell_type": "code",
   "execution_count": null,
   "id": "cc0332ef-9392-4510-aa2d-2e1b087b2d7a",
   "metadata": {
    "tags": []
   },
   "outputs": [],
   "source": [
    "from odc.geo.geom import point\n",
    "\n",
    "def latlon_query(lat, lon, src, method=\"nearest\", **kw):\n",
    "    pt = point(lon, lat, 4326)\n",
    "    gbox = src.odc.geobox\n",
    "\n",
    "    if gbox.axis_aligned:\n",
    "        pt = pt.to_crs(gbox.crs)\n",
    "    else:\n",
    "        # need to convert to image coordinates\n",
    "        pt = gbox.project(pt)\n",
    "\n",
    "    x, y = pt.points[0]\n",
    "    return {\"x\": x, \"y\": y, \"method\": method, **kw}"
   ]
  },
  {
   "cell_type": "markdown",
   "id": "4cd9c45d-d067-4137-ab78-3052cc9c5738",
   "metadata": {},
   "source": [
    "### Define Point Query\n",
    "\n",
    "- Define query location\n",
    "- Add it to a map from before\n",
    "- Display the map again"
   ]
  },
  {
   "cell_type": "code",
   "execution_count": null,
   "id": "429b6fdd-68bd-4c3e-ac61-fcf1ea328f91",
   "metadata": {
    "tags": []
   },
   "outputs": [],
   "source": [
    "from folium import Marker\n",
    "\n",
    "lat, lon = 38.229, -122\n",
    "Marker(\n",
    "    [lat, lon],\n",
    "    name=\"Query\",\n",
    "    tooltip=f\"lat: {lat:.3f}, lon: {lon:.3f}\",\n",
    "    control=False,\n",
    ").add_to(_map, index=2)\n",
    "display(_map)"
   ]
  },
  {
   "cell_type": "markdown",
   "id": "56e66485-7278-4239-a677-1f7646b6183f",
   "metadata": {},
   "source": [
    "### Load and Plot"
   ]
  },
  {
   "cell_type": "code",
   "execution_count": null,
   "id": "65d0f4c8-8181-4516-8c32-7187d944d5e7",
   "metadata": {
    "tags": []
   },
   "outputs": [],
   "source": [
    "pix = xx.rfl.sel(**latlon_query(lat, lon, xx)).compute()\n",
    "_ = pix.plot()"
   ]
  },
  {
   "cell_type": "markdown",
   "id": "92e2fe12-217a-44d6-987c-204e2fcbf7e4",
   "metadata": {
    "tags": []
   },
   "source": [
    "# Appendix"
   ]
  },
  {
   "cell_type": "markdown",
   "id": "fb97036f-9af9-4fa8-94e8-b930a9d99180",
   "metadata": {},
   "source": [
    "## List available zarrs on S3"
   ]
  },
  {
   "cell_type": "code",
   "execution_count": null,
   "id": "eca0edb4-c00c-4466-81e1-c8215c7b7a9f",
   "metadata": {
    "tags": []
   },
   "outputs": [],
   "source": [
    "!aws s3 ls s3://adias-prod-dc-data-projects/odc-hs/av3/ | grep \".zarr\""
   ]
  },
  {
   "cell_type": "markdown",
   "id": "5f592443-601c-4621-a871-1921ff36767c",
   "metadata": {},
   "source": [
    "---------------------------------"
   ]
  }
 ],
 "metadata": {
  "kernelspec": {
   "display_name": "emit",
   "language": "python",
   "name": "emit"
  },
  "language_info": {
   "codemirror_mode": {
    "name": "ipython",
    "version": 3
   },
   "file_extension": ".py",
   "mimetype": "text/x-python",
   "name": "python",
   "nbconvert_exporter": "python",
   "pygments_lexer": "ipython3",
   "version": "3.10.12"
  }
 },
 "nbformat": 4,
 "nbformat_minor": 5
}
