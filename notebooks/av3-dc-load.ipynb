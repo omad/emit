{
 "cells": [
  {
   "cell_type": "code",
   "execution_count": null,
   "id": "11110f30-5522-4b38-aef9-6a439d72c217",
   "metadata": {},
   "outputs": [],
   "source": [
    "import os\n",
    "\n",
    "from odc.emit import dump_py_env\n",
    "\n",
    "if \"ODC_EMIT_DB_URL\" not in os.environ:\n",
    "    print(\"Updating ENV\")\n",
    "    for e in os.environ:\n",
    "        if e.startswith(\"DB_\"):\n",
    "            os.environ.pop(e, None)\n",
    "\n",
    "    os.environ[\"ODC_EMIT_DB_URL\"] = \"postgresql:///datacube?host=/tmp\"\n",
    "\n",
    "dump_py_env()"
   ]
  },
  {
   "cell_type": "code",
   "execution_count": null,
   "id": "7225e945-a2d7-4f97-ba52-3d32650898fd",
   "metadata": {
    "tags": []
   },
   "outputs": [],
   "source": [
    "from distributed import Client\n",
    "\n",
    "client = Client(n_workers=1, threads_per_worker=None)\n",
    "client"
   ]
  },
  {
   "cell_type": "code",
   "execution_count": null,
   "id": "a878a179-39cf-42b6-8165-66e346e0cfbb",
   "metadata": {
    "tags": []
   },
   "outputs": [],
   "source": [
    "from datacube import Datacube\n",
    "\n",
    "dc = Datacube(env=\"emit\")"
   ]
  },
  {
   "cell_type": "code",
   "execution_count": null,
   "id": "ec25bf2c-ddd8-413c-ba34-a20bc9e0f8b8",
   "metadata": {
    "tags": []
   },
   "outputs": [],
   "source": [
    "xx = dc.load(\n",
    "    product=\"av3_l2a\",\n",
    "    dask_chunks={\"x\": 2048, \"y\": 2048, \"wavelength\": 20},\n",
    "    group_by=\"solar_day\",\n",
    "    driver=\"zarr\", #<- must be present for load to work\n",
    ")\n",
    "display(xx)\n",
    "assert xx.time.shape[0] == 1"
   ]
  },
  {
   "cell_type": "code",
   "execution_count": null,
   "id": "75140554-3474-4538-afc0-ec366c10385b",
   "metadata": {
    "tags": []
   },
   "outputs": [],
   "source": [
    "xx.AOT550.compute().odc.explore(robust=True, cmap='magma')"
   ]
  },
  {
   "cell_type": "code",
   "execution_count": null,
   "id": "504acb08-11b3-46ab-a979-c67ce9f79530",
   "metadata": {
    "tags": []
   },
   "outputs": [],
   "source": [
    "%%time\n",
    "bb = xx.rfl.isel(wavelength=0).compute()"
   ]
  },
  {
   "cell_type": "markdown",
   "id": "2d72e529-96de-4f22-b73a-089d9cb5c096",
   "metadata": {},
   "source": [
    "### Display Left\n",
    "\n",
    "something up with `.explore` and large images, review in halfs"
   ]
  },
  {
   "cell_type": "code",
   "execution_count": null,
   "id": "a0a3cc41-6537-439c-b354-360041301d08",
   "metadata": {
    "tags": []
   },
   "outputs": [],
   "source": [
    "bb[0, :, :4000].odc.explore(robust=True, cmap='magma')"
   ]
  },
  {
   "cell_type": "markdown",
   "id": "8ae5e80d-389b-4eb2-9553-c6535e04418c",
   "metadata": {},
   "source": [
    "### Display Right"
   ]
  },
  {
   "cell_type": "code",
   "execution_count": null,
   "id": "568d0d26-fc71-49a3-8a7a-ae16b47cd589",
   "metadata": {
    "tags": []
   },
   "outputs": [],
   "source": [
    "bb[0, :, 4000:].odc.explore(robust=True, cmap='magma')"
   ]
  },
  {
   "cell_type": "markdown",
   "id": "b8988e0c-42a0-4ee5-98aa-73b19bd1dd9b",
   "metadata": {},
   "source": [
    "-----------------------"
   ]
  }
 ],
 "metadata": {
  "kernelspec": {
   "display_name": "emit",
   "language": "python",
   "name": "emit"
  },
  "language_info": {
   "codemirror_mode": {
    "name": "ipython",
    "version": 3
   },
   "file_extension": ".py",
   "mimetype": "text/x-python",
   "name": "python",
   "nbconvert_exporter": "python",
   "pygments_lexer": "ipython3",
   "version": "3.10.12"
  }
 },
 "nbformat": 4,
 "nbformat_minor": 5
}
